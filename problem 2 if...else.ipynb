{
 "cells": [
  {
   "cell_type": "code",
   "execution_count": null,
   "metadata": {},
   "outputs": [],
   "source": [
    "#Conditions tests if a something is True or False, and it works same like logic gates\n"
   ]
  },
  {
   "cell_type": "code",
   "execution_count": null,
   "metadata": {},
   "outputs": [],
   "source": [
    "#just click on run\n",
    "\n",
    "2 < 5"
   ]
  },
  {
   "cell_type": "code",
   "execution_count": null,
   "metadata": {},
   "outputs": [],
   "source": [
    "3 >5"
   ]
  },
  {
   "cell_type": "code",
   "execution_count": null,
   "metadata": {},
   "outputs": [],
   "source": [
    "x = 11\n",
    "x > 10"
   ]
  },
  {
   "cell_type": "code",
   "execution_count": null,
   "metadata": {},
   "outputs": [],
   "source": [
    "y = 20\n",
    "2 * y < y"
   ]
  },
  {
   "cell_type": "code",
   "execution_count": null,
   "metadata": {},
   "outputs": [],
   "source": [
    "#if else format\n",
    "\n",
    "#if condition:\n",
    "#        statements\n",
    "\n",
    "#elif condition:\n",
    "#        statements\n",
    "\n",
    "#else:\n",
    "#        statements\n",
    "\n",
    "\n",
    "#From condition its means like \"2<3\" or \"5>6\" or \"hamza\"=\"hamza\"  \"5=5\".. if condition is true then in it will excute \n",
    "#a statement. \n",
    "#statment can be any funtion like print() or numerical operations."
   ]
  },
  {
   "cell_type": "code",
   "execution_count": null,
   "metadata": {},
   "outputs": [],
   "source": [
    "# basic example\n",
    "x =50 \n",
    "if x < 10:\n",
    "     print(\"Good morning\")\n",
    "\n",
    "else:\n",
    "    print(\"Good afternoon\")\n",
    "\n",
    "\n",
    "    \n",
    "#The code I written in which I give variable \"x\" a value of 50. then I used if..else statement, in which I declared\n",
    "#a condition if x(50) < 10 then print(\"Good morning\") if not(else) then print(\"Good afternoon\")\n",
    "# 50 < 10 is false that's why complier didn't exceute \"if\" statement and move on to \"else\"."
   ]
  },
  {
   "cell_type": "code",
   "execution_count": null,
   "metadata": {},
   "outputs": [],
   "source": [
    "#Example 1: Age Cutoff\n",
    "#input function will ask you a value and then assign it to a variable. The value stored as string.\n",
    "age = int(input(\"What is your age?\")) #We wrapped input funtion in int() funtion because talking about the age(numerical quantity)\n",
    "\n",
    "cutoff = a>= 18 #cutoff will have logical vairables (TRUE or FALSE) depending on your value\n",
    "\n",
    "if cutoff:\n",
    "        print(\"You may enter.\")\n",
    "else:\n",
    "    print(\"You are Underage.\")\n",
    "    \n",
    "## use can also do it like this\n",
    "\n",
    "# if age >= 18:\n",
    "#         print(\"You may enter.\")\n",
    "# else:\n",
    "#     print(\"You are Underage.\")\n",
    "    \n",
    "\n"
   ]
  },
  {
   "cell_type": "code",
   "execution_count": null,
   "metadata": {},
   "outputs": [],
   "source": [
    "#Example 2: Password \n",
    "\n",
    "\n",
    "hamza_password = \"apple123\"\n",
    "\n",
    "print(\"Weclome Hamza, Please enter your password to login in to your account.\")\n",
    "\n",
    "if hamza_password == input(\"Enter your password. \"):\n",
    "    print(\"You'are sucessfully logged in.\")\n",
    "else:\n",
    "    print(\"Wrong password.\")\n",
    "\n",
    "#you can also do it like this.\n",
    "\n",
    "# entered_password = input(\"Enter your password. \")\n",
    "#if hamza_password == :\n",
    "#    print(\"You'are sucessfully logged in.\")\n",
    "#else:\n",
    "#    print(\"Wrong password.\")"
   ]
  },
  {
   "cell_type": "markdown",
   "metadata": {},
   "source": [
    "Just remove \"#\" before the code to make it work. "
   ]
  },
  {
   "cell_type": "code",
   "execution_count": null,
   "metadata": {},
   "outputs": [],
   "source": [
    "#Example 3: Which doctor should I see?\n",
    "\n",
    "print(\"Welcome to the Jinnah Hospital website, please enter your age to know what specialist you shoud see.\")\n",
    "age = int(input(\"What is your age?\"))\n",
    "\n",
    "if age > 2 and age <= 20: #if the age falls in this interval which is greater than 2 'and' equal or less than 20, then the code will excute.\n",
    "    print(\"Consult child specialist.\")\n",
    "elif age > 20 and age <= 25:  #if the age falls in the interval which is greater than 20 'and' equal or less than 25, then the code will excute.\n",
    "    print(\"Consult Physician.\")\n",
    "elif age > 25 and age <= 45:  #if the age falls in the interval which is greater than 25 'and' equal or less than 45, then the code will excute.\n",
    "    print(\"Consult cardologist.\")\n",
    "elif age > 45: #if the age is above 45 then excute this code.\n",
    "    print(\"Consult Orthopedic.\")\n",
    "else:\n",
    "    print(\"Sorry, we don't have any specialist for your age.\")\n",
    "\n",
    "#the 'else' would work on those values which are not mentioned above and it also excute when the age is equals or less than to 2.\n"
   ]
  },
  {
   "cell_type": "code",
   "execution_count": null,
   "metadata": {},
   "outputs": [],
   "source": [
    "#Example 4: Types of roots of quadratic equation.\n",
    "\n",
    "#input store the variable as string but we are in math domain, so we wrapped input() funtion into float()\n",
    "#we used float() instead of int() because we want decimal/fractional values also.\n",
    "a = float(input(\"What is the value of a?\")) \n",
    "b = float(input(\"What is the value of b?\")) \n",
    "c= float(input(\"What is value of c?\"))\n",
    "\n",
    "\n",
    "D = b**2-4*a*c\n",
    "\n",
    "# '**' is for the power and '*' is for multiplication.\n",
    "\n",
    "if D == 0 :\n",
    "    print(\"The roots are real and equal.\")\n",
    "elif D > 0:\n",
    "    print(\"The roots are real and unequal.\")\n",
    "else:\n",
    "    print(\"The roots are complex and unequal\")"
   ]
  },
  {
   "cell_type": "code",
   "execution_count": null,
   "metadata": {},
   "outputs": [],
   "source": []
  },
  {
   "cell_type": "code",
   "execution_count": null,
   "metadata": {},
   "outputs": [],
   "source": []
  }
 ],
 "metadata": {
  "kernelspec": {
   "display_name": "Python 3",
   "language": "python",
   "name": "python3"
  },
  "language_info": {
   "codemirror_mode": {
    "name": "ipython",
    "version": 3
   },
   "file_extension": ".py",
   "mimetype": "text/x-python",
   "name": "python",
   "nbconvert_exporter": "python",
   "pygments_lexer": "ipython3",
   "version": "3.6.4"
  }
 },
 "nbformat": 4,
 "nbformat_minor": 2
}
